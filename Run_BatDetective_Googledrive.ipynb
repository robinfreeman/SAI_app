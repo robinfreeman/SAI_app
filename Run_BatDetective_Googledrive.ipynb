{
  "nbformat": 4,
  "nbformat_minor": 0,
  "metadata": {
    "colab": {
      "name": "Run_BatDetective_Googledrive.ipynb",
      "provenance": [],
      "collapsed_sections": [],
      "machine_shape": "hm",
      "include_colab_link": true
    },
    "kernelspec": {
      "name": "python3",
      "display_name": "Python 3"
    },
    "language_info": {
      "name": "python"
    },
    "accelerator": "GPU"
  },
  "cells": [
    {
      "cell_type": "markdown",
      "metadata": {
        "id": "view-in-github",
        "colab_type": "text"
      },
      "source": [
        "<a href=\"https://colab.research.google.com/github/robinfreeman/SAI_app/blob/master/Run_BatDetective_Googledrive.ipynb\" target=\"_parent\"><img src=\"https://colab.research.google.com/assets/colab-badge.svg\" alt=\"Open In Colab\"/></a>"
      ]
    },
    {
      "cell_type": "markdown",
      "source": [
        "# **Run Bat detective CNN on GoogleDrive folder**\n",
        "\n",
        "Code from https://github.com/macaodha/batdetect \n"
      ],
      "metadata": {
        "id": "OlIsjU6AOkw2"
      }
    },
    {
      "cell_type": "markdown",
      "source": [
        "# CPU Bat Detector Code\n",
        "\n",
        "This contains python code for bat echolocation call detection in full spectrum audio recordings. This is a stripped down CPU based version of the detector with minimal dependencies that can be used for deployment.\n",
        "\n",
        "\n",
        "#### Installation Instructions\n",
        "* Install the Anconda Python 2.7 distribution from [here](https://www.continuum.io/downloads).\n",
        "* Download this detection code from the repository and unzip it.\n",
        "* Compile fast non maximum suppression by running: `python setup.py build_ext --inplace`. This might not work on all systems e.g. Windows.\n",
        "\n",
        "\n",
        "#### Running on Your Own Data\n",
        "* Change the `data_dir = 'wavs/'` variable so that it points to the location of the audio files you want to run the detector on.\n",
        "* Specify where you want to results to be saved by setting `op_ann_dir = 'results/'`.\n",
        "* To run open up the command line and type:  \n",
        "  `python run_detector.py`\n",
        "* If you want the detector to be less conservative in it's detections lower the value of `detection_thresh`.\n",
        "* By setting `save_individual_results = False` the code will not save individual results files.\n",
        "\n",
        "## Misc\n",
        "\n",
        "#### Requirements\n",
        "The code has been tested using Python2.7 (it mostly works under Python3.6, but we have noticed some issues) with the following package versions:  \n",
        "`Python 2.7.12`   \n",
        "`scipy 0.19.0`  \n",
        "`numpy 1.12.1`  \n",
        "`pandas 0.19.2`  \n",
        "`cython 0.24.1` - not required  \n",
        "\n",
        "\n",
        "#### Different Detection Models\n",
        "* `detector_192K.npy` is trained to be more efficient for files that have been recorded at 192K. Note that different detectors will give different results. You can swap in your own models that have been trained using the code in `../bat_train`, and exported with '../bat_train/export_detector_weights.py'.\n",
        "* To use it change the detector model as follows:  \n",
        "`det_model_file = 'models/detector_192K.npy'`\n",
        "* Running `evaluate_cnn_fast.py` will compute the performance of the CPU version of this CNN_FAST model on the different test sets.\n",
        "\n",
        "\n",
        "#### Viewing Outputs\n",
        "* The code outputs annotations as one big csv file. The location where to save the file is specified with the variable:\n",
        "  `op_file_name_total = 'res/op_file.csv'`  \n",
        "  It contains three fields `file_name`, `detection_time`, and `detection_prob` which indicated the time in file and detector confidence (higher is more confident) for each detected call.\n",
        "* It also saves the outputs in a format compatible with [AudioTagger](https://github.com/groakat/AudioTagger). The output directory for these annotations is specified as:\n",
        "`op_ann_dir = 'res/'`  \n",
        "The individual `*-sceneRect.csv` files contain the same information that is specified in the main results file `op_file_name_total`, where `LabelStartTime_Seconds` corresponds to `detection_time` and `DetectorConfidence` corresponds to `detection_prob`. The additional fields (e.g. `Spec_x1`) are specific to Audiotagger and do not contain any extra information.  \n",
        "\n",
        "\n",
        "#### Performance\n",
        "* You can get higher resolution results by setting the `low_res` flag in `cpu_detection.run_detection()` to `False`.\n",
        "* The detector code breaks the files down into chunks of audio (this is controlled by the parameter `chunk_size` in `cpu_detection` measured in seconds/10). Its best to keep this value reasonably small to keep memory usage low. However, experimenting with different values could speed things up.\n",
        "* You can get faster Fourier Transform by installing FFTW3 library (http://www.fftw.org/) and python wrapper pyFFTW (https://pypi.python.org/pypi/pyFFTW). On Ubuntu Linux: `sudo apt-get install libfftw3 libfftw3-dev` and `pip install pyfftw`, respectively.\n",
        "\n",
        "\n",
        "\n",
        "### Acknowledgements  \n",
        "Thanks to Daniyar Turmukhambetov for coding help for another version of this repo. We are enormously grateful for the efforts and enthusiasm of the amazing iBats and Bat Detective volunteers. We would also like to thank Ian Agranat and Joe Szewczak for useful discussions and access to their systems. Finally, we would like to thank [Zooniverse](https://www.zooniverse.org/) for setting up and hosting the Bat Detective project.\n",
        "\n",
        "### License\n",
        "Code, audio data, and annotations are available for research purposes only i.e. non-commercial use. For any other use of the software or data please contact the authors."
      ],
      "metadata": {
        "id": "IsGEE3zlPckU"
      }
    },
    {
      "cell_type": "markdown",
      "source": [
        "# Clone the Git repo"
      ],
      "metadata": {
        "id": "GOtlvdWEOt30"
      }
    },
    {
      "cell_type": "code",
      "source": [
        "!git clone https://github.com/macaodha/batdetect.git"
      ],
      "metadata": {
        "colab": {
          "base_uri": "https://localhost:8080/"
        },
        "id": "5OQKixODOyNE",
        "outputId": "6151da4c-2683-48c0-8138-a8afe37adc9e"
      },
      "execution_count": null,
      "outputs": [
        {
          "output_type": "stream",
          "name": "stdout",
          "text": [
            "Cloning into 'batdetect'...\n",
            "remote: Enumerating objects: 107, done.\u001b[K\n",
            "remote: Total 107 (delta 0), reused 0 (delta 0), pack-reused 107\u001b[K\n",
            "Receiving objects: 100% (107/107), 866.38 KiB | 18.83 MiB/s, done.\n",
            "Resolving deltas: 100% (47/47), done.\n"
          ]
        }
      ]
    },
    {
      "cell_type": "markdown",
      "source": [
        "# Mount GoogleDrive"
      ],
      "metadata": {
        "id": "yc7h-nNWb9pR"
      }
    },
    {
      "cell_type": "markdown",
      "metadata": {
        "id": "FVoPo6-Pa4XN"
      },
      "source": [
        "# Access MS Teams using RClone"
      ]
    },
    {
      "cell_type": "code",
      "source": [
        "! curl https://rclone.org/install.sh | sudo bash"
      ],
      "metadata": {
        "id": "q6MFupQVIqH5",
        "colab": {
          "base_uri": "https://localhost:8080/"
        },
        "outputId": "f6729906-22c9-4721-97f8-e462ff6bae87"
      },
      "execution_count": null,
      "outputs": [
        {
          "output_type": "stream",
          "name": "stdout",
          "text": [
            "  % Total    % Received % Xferd  Average Speed   Time    Time     Time  Current\n",
            "                                 Dload  Upload   Total   Spent    Left  Speed\n",
            "100  4497  100  4497    0     0   5002      0 --:--:-- --:--:-- --:--:--  4996\n",
            "Archive:  rclone-current-linux-amd64.zip\n",
            "   creating: tmp_unzip_dir_for_rclone/rclone-v1.58.0-linux-amd64/\n",
            "  inflating: tmp_unzip_dir_for_rclone/rclone-v1.58.0-linux-amd64/rclone  [binary]\n",
            "  inflating: tmp_unzip_dir_for_rclone/rclone-v1.58.0-linux-amd64/rclone.1  [text]  \n",
            "  inflating: tmp_unzip_dir_for_rclone/rclone-v1.58.0-linux-amd64/README.html  [text]  \n",
            "  inflating: tmp_unzip_dir_for_rclone/rclone-v1.58.0-linux-amd64/README.txt  [text]  \n",
            "  inflating: tmp_unzip_dir_for_rclone/rclone-v1.58.0-linux-amd64/git-log.txt  [text]  \n",
            "Purging old database entries in /usr/share/man...\n",
            "Processing manual pages under /usr/share/man...\n",
            "Purging old database entries in /usr/share/man/cs...\n",
            "Processing manual pages under /usr/share/man/cs...\n",
            "Purging old database entries in /usr/share/man/tr...\n",
            "Processing manual pages under /usr/share/man/tr...\n",
            "Purging old database entries in /usr/share/man/id...\n",
            "Processing manual pages under /usr/share/man/id...\n",
            "Purging old database entries in /usr/share/man/ko...\n",
            "Processing manual pages under /usr/share/man/ko...\n",
            "Purging old database entries in /usr/share/man/sv...\n",
            "Processing manual pages under /usr/share/man/sv...\n",
            "Purging old database entries in /usr/share/man/ru...\n",
            "Processing manual pages under /usr/share/man/ru...\n",
            "Purging old database entries in /usr/share/man/pt...\n",
            "Processing manual pages under /usr/share/man/pt...\n",
            "Purging old database entries in /usr/share/man/es...\n",
            "Processing manual pages under /usr/share/man/es...\n",
            "Purging old database entries in /usr/share/man/ja...\n",
            "Processing manual pages under /usr/share/man/ja...\n",
            "Purging old database entries in /usr/share/man/fi...\n",
            "Processing manual pages under /usr/share/man/fi...\n",
            "Purging old database entries in /usr/share/man/nl...\n",
            "Processing manual pages under /usr/share/man/nl...\n",
            "Purging old database entries in /usr/share/man/fr...\n",
            "Processing manual pages under /usr/share/man/fr...\n",
            "Purging old database entries in /usr/share/man/zh_TW...\n",
            "Processing manual pages under /usr/share/man/zh_TW...\n",
            "Purging old database entries in /usr/share/man/hu...\n",
            "Processing manual pages under /usr/share/man/hu...\n",
            "Purging old database entries in /usr/share/man/da...\n",
            "Processing manual pages under /usr/share/man/da...\n",
            "Purging old database entries in /usr/share/man/it...\n",
            "Processing manual pages under /usr/share/man/it...\n",
            "Purging old database entries in /usr/share/man/pl...\n",
            "Processing manual pages under /usr/share/man/pl...\n",
            "Purging old database entries in /usr/share/man/zh_CN...\n",
            "Processing manual pages under /usr/share/man/zh_CN...\n",
            "Purging old database entries in /usr/share/man/de...\n",
            "Processing manual pages under /usr/share/man/de...\n",
            "Purging old database entries in /usr/share/man/sr...\n",
            "Processing manual pages under /usr/share/man/sr...\n",
            "Purging old database entries in /usr/share/man/pt_BR...\n",
            "Processing manual pages under /usr/share/man/pt_BR...\n",
            "Processing manual pages under /usr/local/man...\n",
            "Updating index cache for path `/usr/local/man/man1'. Wait...done.\n",
            "Checking for stray cats under /usr/local/man...\n",
            "Checking for stray cats under /var/cache/man/oldlocal...\n",
            "1 man subdirectory contained newer manual pages.\n",
            "3 manual pages were added.\n",
            "0 stray cats were added.\n",
            "18 old database entries were purged.\n",
            "\n",
            "rclone v1.58.0 has successfully installed.\n",
            "Now run \"rclone config\" for setup. Check https://rclone.org/docs/ for more details.\n",
            "\n"
          ]
        }
      ]
    },
    {
      "cell_type": "code",
      "source": [
        "!rclone config\n"
      ],
      "metadata": {
        "id": "_rZI_z23T_Ao",
        "colab": {
          "base_uri": "https://localhost:8080/"
        },
        "outputId": "d070c1ab-75dd-4e9b-c721-338c1a9b526b"
      },
      "execution_count": null,
      "outputs": [
        {
          "output_type": "stream",
          "name": "stdout",
          "text": [
            "2022/03/27 14:33:42 NOTICE: Config file \"/root/.config/rclone/rclone.conf\" not found - using defaults\n",
            "No remotes found, make a new one?\n",
            "n) New remote\n",
            "s) Set configuration password\n",
            "q) Quit config\n",
            "n/s/q> n\n",
            "name> teams\n",
            "Option Storage.\n",
            "Type of storage to configure.\n",
            "Choose a number from below, or type in your own value.\n",
            "\u001b[91m 1 / 1Fichier\n",
            "   \\ (fichier)\n",
            "\u001b[0m\u001b[92m 2 / Akamai NetStorage\n",
            "   \\ (netstorage)\n",
            "\u001b[0m\u001b[91m 3 / Alias for an existing remote\n",
            "   \\ (alias)\n",
            "\u001b[0m\u001b[92m 4 / Amazon Drive\n",
            "   \\ (amazon cloud drive)\n",
            "\u001b[0m\u001b[91m 5 / Amazon S3 Compliant Storage Providers including AWS, Alibaba, Ceph, Digital Ocean, Dreamhost, IBM COS, Lyve Cloud, Minio, RackCorp, SeaweedFS, and Tencent COS\n",
            "   \\ (s3)\n",
            "\u001b[0m\u001b[92m 6 / Backblaze B2\n",
            "   \\ (b2)\n",
            "\u001b[0m\u001b[91m 7 / Better checksums for other remotes\n",
            "   \\ (hasher)\n",
            "\u001b[0m\u001b[92m 8 / Box\n",
            "   \\ (box)\n",
            "\u001b[0m\u001b[91m 9 / Cache a remote\n",
            "   \\ (cache)\n",
            "\u001b[0m\u001b[92m10 / Citrix Sharefile\n",
            "   \\ (sharefile)\n",
            "\u001b[0m\u001b[91m11 / Compress a remote\n",
            "   \\ (compress)\n",
            "\u001b[0m\u001b[92m12 / Dropbox\n",
            "   \\ (dropbox)\n",
            "\u001b[0m\u001b[91m13 / Encrypt/Decrypt a remote\n",
            "   \\ (crypt)\n",
            "\u001b[0m\u001b[92m14 / Enterprise File Fabric\n",
            "   \\ (filefabric)\n",
            "\u001b[0m\u001b[91m15 / FTP Connection\n",
            "   \\ (ftp)\n",
            "\u001b[0m\u001b[92m16 / Google Cloud Storage (this is not Google Drive)\n",
            "   \\ (google cloud storage)\n",
            "\u001b[0m\u001b[91m17 / Google Drive\n",
            "   \\ (drive)\n",
            "\u001b[0m\u001b[92m18 / Google Photos\n",
            "   \\ (google photos)\n",
            "\u001b[0m\u001b[91m19 / Hadoop distributed file system\n",
            "   \\ (hdfs)\n",
            "\u001b[0m\u001b[92m20 / Hubic\n",
            "   \\ (hubic)\n",
            "\u001b[0m\u001b[91m21 / In memory object storage system.\n",
            "   \\ (memory)\n",
            "\u001b[0m\u001b[92m22 / Jottacloud\n",
            "   \\ (jottacloud)\n",
            "\u001b[0m\u001b[91m23 / Koofr, Digi Storage and other Koofr-compatible storage providers\n",
            "   \\ (koofr)\n",
            "\u001b[0m\u001b[92m24 / Local Disk\n",
            "   \\ (local)\n",
            "\u001b[0m\u001b[91m25 / Mail.ru Cloud\n",
            "   \\ (mailru)\n",
            "\u001b[0m\u001b[92m26 / Mega\n",
            "   \\ (mega)\n",
            "\u001b[0m\u001b[91m27 / Microsoft Azure Blob Storage\n",
            "   \\ (azureblob)\n",
            "\u001b[0m\u001b[92m28 / Microsoft OneDrive\n",
            "   \\ (onedrive)\n",
            "\u001b[0m\u001b[91m29 / OpenDrive\n",
            "   \\ (opendrive)\n",
            "\u001b[0m\u001b[92m30 / OpenStack Swift (Rackspace Cloud Files, Memset Memstore, OVH)\n",
            "   \\ (swift)\n",
            "\u001b[0m\u001b[91m31 / Pcloud\n",
            "   \\ (pcloud)\n",
            "\u001b[0m\u001b[92m32 / Put.io\n",
            "   \\ (putio)\n",
            "\u001b[0m\u001b[91m33 / QingCloud Object Storage\n",
            "   \\ (qingstor)\n",
            "\u001b[0m\u001b[92m34 / SSH/SFTP Connection\n",
            "   \\ (sftp)\n",
            "\u001b[0m\u001b[91m35 / Sia Decentralized Cloud\n",
            "   \\ (sia)\n",
            "\u001b[0m\u001b[92m36 / Storj Decentralized Cloud Storage\n",
            "   \\ (storj)\n",
            "\u001b[0m\u001b[91m37 / Sugarsync\n",
            "   \\ (sugarsync)\n",
            "\u001b[0m\u001b[92m38 / Transparently chunk/split large files\n",
            "   \\ (chunker)\n",
            "\u001b[0m\u001b[91m39 / Union merges the contents of several upstream fs\n",
            "   \\ (union)\n",
            "\u001b[0m\u001b[92m40 / Uptobox\n",
            "   \\ (uptobox)\n",
            "\u001b[0m\u001b[91m41 / Webdav\n",
            "   \\ (webdav)\n",
            "\u001b[0m\u001b[92m42 / Yandex Disk\n",
            "   \\ (yandex)\n",
            "\u001b[0m\u001b[91m43 / Zoho\n",
            "   \\ (zoho)\n",
            "\u001b[0m\u001b[92m44 / http Connection\n",
            "   \\ (http)\n",
            "\u001b[0m\u001b[91m45 / premiumize.me\n",
            "   \\ (premiumizeme)\n",
            "\u001b[0m\u001b[92m46 / seafile\n",
            "   \\ (seafile)\n",
            "\u001b[0mStorage> 28\n",
            "Option client_id.\n",
            "OAuth Client Id.\n",
            "Leave blank normally.\n",
            "Enter a value. Press Enter to leave empty.\n",
            "client_id> \n",
            "Option client_secret.\n",
            "OAuth Client Secret.\n",
            "Leave blank normally.\n",
            "Enter a value. Press Enter to leave empty.\n",
            "client_secret> \n",
            "Option region.\n",
            "Choose national cloud region for OneDrive.\n",
            "Choose a number from below, or type in your own string value.\n",
            "Press Enter for the default (global).\n",
            "\u001b[91m 1 / Microsoft Cloud Global\n",
            "   \\ (global)\n",
            "\u001b[0m\u001b[92m 2 / Microsoft Cloud for US Government\n",
            "   \\ (us)\n",
            "\u001b[0m\u001b[91m 3 / Microsoft Cloud Germany\n",
            "   \\ (de)\n",
            "\u001b[0m\u001b[92m 4 / Azure and Office 365 operated by 21Vianet in China\n",
            "   \\ (cn)\n",
            "\u001b[0mregion> 1\n",
            "Edit advanced config?\n",
            "y) Yes\n",
            "n) No (default)\n",
            "y/n> \n",
            "Use auto config?\n",
            " * Say Y if not sure\n",
            " * Say N if you are working on a remote or headless machine\n",
            "\n",
            "y) Yes (default)\n",
            "n) No\n",
            "y/n> n\n",
            "Option config_token.\n",
            "For this to work, you will need rclone available on a machine that has\n",
            "a web browser available.\n",
            "For more help and alternate methods see: https://rclone.org/remote_setup/\n",
            "Execute the following on the machine with the web browser (same rclone\n",
            "version recommended):\n",
            "\trclone authorize \"onedrive\"\n",
            "Then paste the result.\n",
            "Enter a value.\n",
            "config_token> {\"access_token\":\"eyJ0eXAiOiJKV1QiLCJub25jZSI6IllPVk1NRVBQWlA5UnZLR0lKZHpEVkFrRUVuMzhINFI3d2ZHd0QweU1GMXciLCJhbGciOiJSUzI1NiIsIng1dCI6ImpTMVhvMU9XRGpfNTJ2YndHTmd2UU8yVnpNYyIsImtpZCI6ImpTMVhvMU9XRGpfNTJ2YndHTmd2UU8yVnpNYyJ9.eyJhdWQiOiIwMDAwMDAwMy0wMDAwLTAwMDAtYzAwMC0wMDAwMDAwMDAwMDAiLCJpc3MiOiJodHRwczovL3N0cy53aW5kb3dzLm5ldC80YTUzNzhmOS0yOWY0LTRkM2UtYmU4OS02NjlkMDNhZGE5ZDgvIiwiaWF0IjoxNjQ4MzkxNDU2LCJuYmYiOjE2NDgzOTE0NTYsImV4cCI6MTY0ODM5Njk5NSwiYWNjdCI6MCwiYWNyIjoiMSIsImFpbyI6IkFWUUFxLzhUQUFBQVRDMlQ5aUQ5T0xGNitUUzVDNHR6bldXcVl4d3lEYk1maElieWlYRGk1ZGxWTTEwNG1NUllRNjRuTkQzdTVGQ3ZsVnQzdDcxV3R0cVJES3VNTm9yZVBjZlE4QXlEMGtzam9nYnh4UUdEZFRNPSIsImFtciI6WyJwd2QiLCJtZmEiXSwiYXBwX2Rpc3BsYXluYW1lIjoicmNsb25lIiwiYXBwaWQiOiJiMTU2NjVkOS1lZGE2LTQwOTItODUzOS0wZWVjMzc2YWZkNTkiLCJhcHBpZGFjciI6IjEiLCJmYW1pbHlfbmFtZSI6IkthdHNpcyIsImdpdmVuX25hbWUiOiJMeWRpYSIsImlkdHlwIjoidXNlciIsImlwYWRkciI6IjgxLjEwNy4zMi4xMzEiLCJuYW1lIjoiTHlkaWEgS2F0c2lzIiwib2lkIjoiOGVhOWYxYTMtMzkzNS00ODgzLWJiOGYtM2VmZDc4NDZjNzg0Iiwib25wcmVtX3NpZCI6IlMtMS01LTIxLTIwMTU4NDY1NzAtMTExNjQxOTEtMzU1ODEwMTg4LTE0NzQzOTciLCJwbGF0ZiI6IjMiLCJwdWlkIjoiMTAwMzIwMDA0RUMyN0VDNiIsInJoIjoiMC5BUVVBLVhoVFN2UXBQazItaVdhZEE2MnAyQU1BQUFBQUFBQUF3QUFBQUFBQUFBQUZBSlUuIiwic2NwIjoiRmlsZXMuUmVhZCBGaWxlcy5SZWFkLkFsbCBGaWxlcy5SZWFkV3JpdGUgRmlsZXMuUmVhZFdyaXRlLkFsbCBTaXRlcy5SZWFkLkFsbCBwcm9maWxlIG9wZW5pZCBlbWFpbCIsInN1YiI6IkRkQVBOdkExdVFpeVpfZDlwa3AyNnRKMkhWaTBISU84SExTUVVmdG9KXzgiLCJ0ZW5hbnRfcmVnaW9uX3Njb3BlIjoiRVUiLCJ0aWQiOiI0YTUzNzhmOS0yOWY0LTRkM2UtYmU4OS02NjlkMDNhZGE5ZDgiLCJ1bmlxdWVfbmFtZSI6ImxrZGsxbjE5QHNvdG9uLmFjLnVrIiwidXBuIjoibGtkazFuMTlAc290b24uYWMudWsiLCJ1dGkiOiJjNXJpNU9ybWhVcW9aNnZZMWl4VEFBIiwidmVyIjoiMS4wIiwid2lkcyI6WyJiNzlmYmY0ZC0zZWY5LTQ2ODktODE0My03NmIxOTRlODU1MDkiXSwieG1zX3N0Ijp7InN1YiI6IjJwYjJseENTT1VKY2toVV9BNEdGQzdfdHhJNUt3a3FtUFZQSGdVYkVhOWMifSwieG1zX3RjZHQiOjEzNjA4NzA5OTd9.FTxWN9qLyzQas5Y4OB1JsDnIoDwinCkx4sseOVmjdWy2Sucz3n-iX95XkJB1IBrCKc50eEh0FHbihF0GulsvS7V3Ae3QlOTiuJ09E6fIM-tINLucmxsj8HWQgy9f4oZS-2KzwaFWod9lgz2pGwIy1vCMS8q_-_ONXRPi12vSwAfHTs1wOSzvjrhgiAEq4k9BacDixId9lqU5W8ofrpBaJ3dS3sTB_BJv8Cb0rH3kZo4aQ1kmYpzzFZP13JTnlmH8rPDWU55V6l2EnvtP84H0ZHR2_o-tHhEb5jscyBqmgy7TUmh3SIUnmPq4o7lkOwO5rGIumB7K__nAdUPR7LRNYQ\",\"token_type\":\"Bearer\",\"refresh_token\":\"0.AQUA-XhTSvQpPk2-iWadA62p2NllVrGm7ZJAhTkO7Ddq_VkFAJU.AgABAAAAAAD--DLA3VO7QrddgJg7WevrAgDs_wQA9P8yllJXt7cOq2d5c8KLfZn91fjfygDfQLouDMXn6fzJi3FoGs26AUVsXpewQknsw62He-BBg1qecL1q6Q65Qn7ZVFhE2VaIhb6rGWRvEhIUkro_HWnfM4qR6cCnljBjU75DprOXgJEmM3KdoDvvk3BLV1y3BPDQLq3KSh2Ed6OqHbDpRzGZxZl0qsL5qW5-1oaWGONqfSnfRdlMfW2rq1sYq-IoWSGxI3Y7wuAspp-0YMMcQ2V4i689UzHmw8y4VwuRMQbhD2LGuqsIPUkxkycMkLGcAGHT0ZsOgfJZKVIsYJDyDkRzOpVzDQJnxWayM4tNt33Y4zR9ScdwBtEis8Dkg-ZNF_a6_jPdRr65Ps0DuMXEQVfAqyvBNaEaHpVMaHiGtbGxhJRgGNdI6FNXE5ahj3kIJkC2xQozbN2088akezOmg6hKriuo8ALWsYKNpnEtkmNmbRgo6Qgf2HN3-Fqgqjg2K6SBoqpVlsc-PCXxaW4xIUXwHrU15LCJ9RzsaWjZNpnYX3eYS-ngSi49Qjo7_I9gbEZztlt4wAFlKICF5c39n8HM0THCdl_HRZlXiF3wDfROfwjNvnwWAAP59zh2rmSMpJrx3qLb2B0Ys2pzKo9OyNrCIfMbDD4INPKBzHsNxpscEPAeuZhkXJkp4G3gpJvraGXgbNSZu_Y0hduU0mafcvUyKXsWdtQFGtdFv_-s8YJ2X27PIjB6rAr6kyQ4HwRZNATVNDWDHKpODGDGWiQU3T69XMmRbhorSDgdR8SNMeN8NSos1Z8837m1Zvf8xk_v5FIKrzHt3ASVc0Jufh0b-0XR5DeUrSgpVnhjexQ09kaeFpdT-aMhsm60xEYnSiA3zJO_1GGkd_5fXVLSHIZYB-l-AYvzAAGMTqHctx-0KWvJ1wJ7zrDquoi_XehUl7Ac8U49ULleJXdsn8a5L4oGab771OddkLONyL1Ga2jWkbVmN9PSSZkzaspOtLaoztilt1Ogj0ZCFA5RDqhrQfsSctpbJc916ipqTzCfV0Dlr6rLVeGbCrK4xLsPmTAbWEN8ZRtsOJmMzrypWw9m5_68sanfO1WH\",\"expiry\":\"2022-03-27T17:03:13.5628329+01:00\"}\n",
            "Option config_type.\n",
            "Type of connection\n",
            "Choose a number from below, or type in an existing string value.\n",
            "Press Enter for the default (onedrive).\n",
            "\u001b[91m 1 / OneDrive Personal or Business\n",
            "   \\ (onedrive)\n",
            "\u001b[0m\u001b[92m 2 / Root Sharepoint site\n",
            "   \\ (sharepoint)\n",
            "\u001b[0m\u001b[91m   / Sharepoint site name or URL\n",
            " 3 | E.g. mysite or https://contoso.sharepoint.com/sites/mysite\n",
            "   \\ (url)\n",
            "\u001b[0m\u001b[92m 4 / Search for a Sharepoint site\n",
            "   \\ (search)\n",
            "\u001b[0m\u001b[91m 5 / Type in driveID (advanced)\n",
            "   \\ (driveid)\n",
            "\u001b[0m\u001b[92m 6 / Type in SiteID (advanced)\n",
            "   \\ (siteid)\n",
            "\u001b[0m\u001b[91m   / Sharepoint server-relative path (advanced)\n",
            " 7 | E.g. /teams/hr\n",
            "   \\ (path)\n",
            "\u001b[0mconfig_type> 4\n",
            "Option config_search_term.\n",
            "Search term\n",
            "Enter a value.\n",
            "config_search_term> Belize_acoustic_data_LK\n",
            "Drive OK?\n",
            "\n",
            "Found drive \"root\" of type \"documentLibrary\"\n",
            "URL: https://sotonac.sharepoint.com/teams/Belize_acoustic_data_LK/Shared%20Documents\n",
            "\n",
            "y) Yes (default)\n",
            "n) No\n",
            "y/n> y\n",
            "--------------------\n",
            "[teams]\n",
            "type = onedrive\n",
            "token = {\"access_token\":\"eyJ0eXAiOiJKV1QiLCJub25jZSI6IllPVk1NRVBQWlA5UnZLR0lKZHpEVkFrRUVuMzhINFI3d2ZHd0QweU1GMXciLCJhbGciOiJSUzI1NiIsIng1dCI6ImpTMVhvMU9XRGpfNTJ2YndHTmd2UU8yVnpNYyIsImtpZCI6ImpTMVhvMU9XRGpfNTJ2YndHTmd2UU8yVnpNYyJ9.eyJhdWQiOiIwMDAwMDAwMy0wMDAwLTAwMDAtYzAwMC0wMDAwMDAwMDAwMDAiLCJpc3MiOiJodHRwczovL3N0cy53aW5kb3dzLm5ldC80YTUzNzhmOS0yOWY0LTRkM2UtYmU4OS02NjlkMDNhZGE5ZDgvIiwiaWF0IjoxNjQ4MzkxNDU2LCJuYmYiOjE2NDgzOTE0NTYsImV4cCI6MTY0ODM5Njk5NSwiYWNjdCI6MCwiYWNyIjoiMSIsImFpbyI6IkFWUUFxLzhUQUFBQVRDMlQ5aUQ5T0xGNitUUzVDNHR6bldXcVl4d3lEYk1maElieWlYRGk1ZGxWTTEwNG1NUllRNjRuTkQzdTVGQ3ZsVnQzdDcxV3R0cVJES3VNTm9yZVBjZlE4QXlEMGtzam9nYnh4UUdEZFRNPSIsImFtciI6WyJwd2QiLCJtZmEiXSwiYXBwX2Rpc3BsYXluYW1lIjoicmNsb25lIiwiYXBwaWQiOiJiMTU2NjVkOS1lZGE2LTQwOTItODUzOS0wZWVjMzc2YWZkNTkiLCJhcHBpZGFjciI6IjEiLCJmYW1pbHlfbmFtZSI6IkthdHNpcyIsImdpdmVuX25hbWUiOiJMeWRpYSIsImlkdHlwIjoidXNlciIsImlwYWRkciI6IjgxLjEwNy4zMi4xMzEiLCJuYW1lIjoiTHlkaWEgS2F0c2lzIiwib2lkIjoiOGVhOWYxYTMtMzkzNS00ODgzLWJiOGYtM2VmZDc4NDZjNzg0Iiwib25wcmVtX3NpZCI6IlMtMS01LTIxLTIwMTU4NDY1NzAtMTExNjQxOTEtMzU1ODEwMTg4LTE0NzQzOTciLCJwbGF0ZiI6IjMiLCJwdWlkIjoiMTAwMzIwMDA0RUMyN0VDNiIsInJoIjoiMC5BUVVBLVhoVFN2UXBQazItaVdhZEE2MnAyQU1BQUFBQUFBQUF3QUFBQUFBQUFBQUZBSlUuIiwic2NwIjoiRmlsZXMuUmVhZCBGaWxlcy5SZWFkLkFsbCBGaWxlcy5SZWFkV3JpdGUgRmlsZXMuUmVhZFdyaXRlLkFsbCBTaXRlcy5SZWFkLkFsbCBwcm9maWxlIG9wZW5pZCBlbWFpbCIsInN1YiI6IkRkQVBOdkExdVFpeVpfZDlwa3AyNnRKMkhWaTBISU84SExTUVVmdG9KXzgiLCJ0ZW5hbnRfcmVnaW9uX3Njb3BlIjoiRVUiLCJ0aWQiOiI0YTUzNzhmOS0yOWY0LTRkM2UtYmU4OS02NjlkMDNhZGE5ZDgiLCJ1bmlxdWVfbmFtZSI6ImxrZGsxbjE5QHNvdG9uLmFjLnVrIiwidXBuIjoibGtkazFuMTlAc290b24uYWMudWsiLCJ1dGkiOiJjNXJpNU9ybWhVcW9aNnZZMWl4VEFBIiwidmVyIjoiMS4wIiwid2lkcyI6WyJiNzlmYmY0ZC0zZWY5LTQ2ODktODE0My03NmIxOTRlODU1MDkiXSwieG1zX3N0Ijp7InN1YiI6IjJwYjJseENTT1VKY2toVV9BNEdGQzdfdHhJNUt3a3FtUFZQSGdVYkVhOWMifSwieG1zX3RjZHQiOjEzNjA4NzA5OTd9.FTxWN9qLyzQas5Y4OB1JsDnIoDwinCkx4sseOVmjdWy2Sucz3n-iX95XkJB1IBrCKc50eEh0FHbihF0GulsvS7V3Ae3QlOTiuJ09E6fIM-tINLucmxsj8HWQgy9f4oZS-2KzwaFWod9lgz2pGwIy1vCMS8q_-_ONXRPi12vSwAfHTs1wOSzvjrhgiAEq4k9BacDixId9lqU5W8ofrpBaJ3dS3sTB_BJv8Cb0rH3kZo4aQ1kmYpzzFZP13JTnlmH8rPDWU55V6l2EnvtP84H0ZHR2_o-tHhEb5jscyBqmgy7TUmh3SIUnmPq4o7lkOwO5rGIumB7K__nAdUPR7LRNYQ\",\"token_type\":\"Bearer\",\"refresh_token\":\"0.AQUA-XhTSvQpPk2-iWadA62p2NllVrGm7ZJAhTkO7Ddq_VkFAJU.AgABAAAAAAD--DLA3VO7QrddgJg7WevrAgDs_wQA9P8yllJXt7cOq2d5c8KLfZn91fjfygDfQLouDMXn6fzJi3FoGs26AUVsXpewQknsw62He-BBg1qecL1q6Q65Qn7ZVFhE2VaIhb6rGWRvEhIUkro_HWnfM4qR6cCnljBjU75DprOXgJEmM3KdoDvvk3BLV1y3BPDQLq3KSh2Ed6OqHbDpRzGZxZl0qsL5qW5-1oaWGONqfSnfRdlMfW2rq1sYq-IoWSGxI3Y7wuAspp-0YMMcQ2V4i689UzHmw8y4VwuRMQbhD2LGuqsIPUkxkycMkLGcAGHT0ZsOgfJZKVIsYJDyDkRzOpVzDQJnxWayM4tNt33Y4zR9ScdwBtEis8Dkg-ZNF_a6_jPdRr65Ps0DuMXEQVfAqyvBNaEaHpVMaHiGtbGxhJRgGNdI6FNXE5ahj3kIJkC2xQozbN2088akezOmg6hKriuo8ALWsYKNpnEtkmNmbRgo6Qgf2HN3-Fqgqjg2K6SBoqpVlsc-PCXxaW4xIUXwHrU15LCJ9RzsaWjZNpnYX3eYS-ngSi49Qjo7_I9gbEZztlt4wAFlKICF5c39n8HM0THCdl_HRZlXiF3wDfROfwjNvnwWAAP59zh2rmSMpJrx3qLb2B0Ys2pzKo9OyNrCIfMbDD4INPKBzHsNxpscEPAeuZhkXJkp4G3gpJvraGXgbNSZu_Y0hduU0mafcvUyKXsWdtQFGtdFv_-s8YJ2X27PIjB6rAr6kyQ4HwRZNATVNDWDHKpODGDGWiQU3T69XMmRbhorSDgdR8SNMeN8NSos1Z8837m1Zvf8xk_v5FIKrzHt3ASVc0Jufh0b-0XR5DeUrSgpVnhjexQ09kaeFpdT-aMhsm60xEYnSiA3zJO_1GGkd_5fXVLSHIZYB-l-AYvzAAGMTqHctx-0KWvJ1wJ7zrDquoi_XehUl7Ac8U49ULleJXdsn8a5L4oGab771OddkLONyL1Ga2jWkbVmN9PSSZkzaspOtLaoztilt1Ogj0ZCFA5RDqhrQfsSctpbJc916ipqTzCfV0Dlr6rLVeGbCrK4xLsPmTAbWEN8ZRtsOJmMzrypWw9m5_68sanfO1WH\",\"expiry\":\"2022-03-27T17:03:13.5628329+01:00\"}\n",
            "drive_id = b!yctjh0zJA02O0M_-_zFFsbUWZbxCGNFNi9zCo_rf36HKXPpA5mvbTKQN1BEaQF82\n",
            "drive_type = documentLibrary\n",
            "--------------------\n",
            "y) Yes this is OK (default)\n",
            "e) Edit this remote\n",
            "d) Delete this remote\n",
            "y/e/d> y\n",
            "Current remotes:\n",
            "\n",
            "Name                 Type\n",
            "====                 ====\n",
            "teams                onedrive\n",
            "\n",
            "e) Edit existing remote\n",
            "n) New remote\n",
            "d) Delete remote\n",
            "r) Rename remote\n",
            "c) Copy remote\n",
            "s) Set configuration password\n",
            "q) Quit config\n",
            "e/n/d/r/c/s/q> q\n"
          ]
        }
      ]
    },
    {
      "cell_type": "code",
      "source": [
        "!rclone lsd teams:ZSL"
      ],
      "metadata": {
        "id": "saW-RRTZdUF2",
        "colab": {
          "base_uri": "https://localhost:8080/"
        },
        "outputId": "58d49be8-332f-4b84-f75d-a337bd80f776"
      },
      "execution_count": null,
      "outputs": [
        {
          "output_type": "stream",
          "name": "stdout",
          "text": [
            "          -1 2022-03-27 14:31:18         3 Bats\n"
          ]
        }
      ]
    },
    {
      "cell_type": "code",
      "source": [
        "!rclone lsd remote_2:"
      ],
      "metadata": {
        "id": "yS-TttICXmuS"
      },
      "execution_count": null,
      "outputs": []
    },
    {
      "cell_type": "code",
      "source": [
        "# Download the file from a given Google Cloud Storage bucket.\n",
        "#image_zip = \"13_RP_2021\"\n",
        "!rclone -v copy --ignore-existing teams:ZSL/Bats  ./"
      ],
      "metadata": {
        "colab": {
          "base_uri": "https://localhost:8080/"
        },
        "id": "gD8uirp_z9WA",
        "outputId": "21cf146f-f9c9-4e56-a5a4-d771b8ba12bd"
      },
      "execution_count": null,
      "outputs": [
        {
          "output_type": "stream",
          "name": "stdout",
          "text": [
            "2022/03/27 14:38:27 INFO  : MSD-10/20220302_213300.WAV: Copied (new)\n",
            "2022/03/27 14:38:27 INFO  : MSD-10/20220302_213400.WAV: Copied (new)\n",
            "2022/03/27 14:38:27 INFO  : MSD-10/20220302_213500.WAV: Copied (new)\n",
            "2022/03/27 14:38:27 INFO  : MSD-10/20220302_213600.WAV: Copied (new)\n",
            "2022/03/27 14:38:27 INFO  : MSD-10/CONFIG.TXT: Copied (new)\n",
            "2022/03/27 14:38:27 INFO  : \n",
            "Transferred:   \t  944.155 MiB / 944.155 MiB, 100%, 76.291 MiB/s, ETA 0s\n",
            "Transferred:           38 / 38, 100%\n",
            "Elapsed time:        15.9s\n",
            "\n"
          ]
        }
      ]
    },
    {
      "cell_type": "markdown",
      "source": [
        "Or just upload files from drive"
      ],
      "metadata": {
        "id": "fTiO4BhQgjEI"
      }
    },
    {
      "cell_type": "code",
      "source": [
        "from google.colab import files\n",
        "uploaded = files.upload()"
      ],
      "metadata": {
        "colab": {
          "resources": {
            "http://localhost:8080/nbextensions/google.colab/files.js": {
              "data": "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",
              "ok": true,
              "headers": [
                [
                  "content-type",
                  "application/javascript"
                ]
              ],
              "status": 200,
              "status_text": ""
            }
          },
          "base_uri": "https://localhost:8080/",
          "height": 367
        },
        "id": "s1B_8P0Wgk1I",
        "outputId": "cd3350ca-99dd-4cd4-b283-22102ecaee2b"
      },
      "execution_count": null,
      "outputs": [
        {
          "output_type": "display_data",
          "data": {
            "text/plain": [
              "<IPython.core.display.HTML object>"
            ],
            "text/html": [
              "\n",
              "     <input type=\"file\" id=\"files-2cfba668-9ddb-4a78-9ddb-e97623b2e2e5\" name=\"files[]\" multiple disabled\n",
              "        style=\"border:none\" />\n",
              "     <output id=\"result-2cfba668-9ddb-4a78-9ddb-e97623b2e2e5\">\n",
              "      Upload widget is only available when the cell has been executed in the\n",
              "      current browser session. Please rerun this cell to enable.\n",
              "      </output>\n",
              "      <script src=\"/nbextensions/google.colab/files.js\"></script> "
            ]
          },
          "metadata": {}
        },
        {
          "output_type": "error",
          "ename": "KeyboardInterrupt",
          "evalue": "ignored",
          "traceback": [
            "\u001b[0;31m---------------------------------------------------------------------------\u001b[0m",
            "\u001b[0;31mKeyboardInterrupt\u001b[0m                         Traceback (most recent call last)",
            "\u001b[0;32m<ipython-input-1-21dc3c638f66>\u001b[0m in \u001b[0;36m<module>\u001b[0;34m()\u001b[0m\n\u001b[1;32m      1\u001b[0m \u001b[0;32mfrom\u001b[0m \u001b[0mgoogle\u001b[0m\u001b[0;34m.\u001b[0m\u001b[0mcolab\u001b[0m \u001b[0;32mimport\u001b[0m \u001b[0mfiles\u001b[0m\u001b[0;34m\u001b[0m\u001b[0;34m\u001b[0m\u001b[0m\n\u001b[0;32m----> 2\u001b[0;31m \u001b[0muploaded\u001b[0m \u001b[0;34m=\u001b[0m \u001b[0mfiles\u001b[0m\u001b[0;34m.\u001b[0m\u001b[0mupload\u001b[0m\u001b[0;34m(\u001b[0m\u001b[0;34m)\u001b[0m\u001b[0;34m\u001b[0m\u001b[0;34m\u001b[0m\u001b[0m\n\u001b[0m",
            "\u001b[0;32m/usr/local/lib/python3.7/dist-packages/google/colab/files.py\u001b[0m in \u001b[0;36mupload\u001b[0;34m()\u001b[0m\n\u001b[1;32m     44\u001b[0m   \"\"\"\n\u001b[1;32m     45\u001b[0m \u001b[0;34m\u001b[0m\u001b[0m\n\u001b[0;32m---> 46\u001b[0;31m   \u001b[0muploaded_files\u001b[0m \u001b[0;34m=\u001b[0m \u001b[0m_upload_files\u001b[0m\u001b[0;34m(\u001b[0m\u001b[0mmultiple\u001b[0m\u001b[0;34m=\u001b[0m\u001b[0;32mTrue\u001b[0m\u001b[0;34m)\u001b[0m\u001b[0;34m\u001b[0m\u001b[0;34m\u001b[0m\u001b[0m\n\u001b[0m\u001b[1;32m     47\u001b[0m   \u001b[0;31m# Mapping from original filename to filename as saved locally.\u001b[0m\u001b[0;34m\u001b[0m\u001b[0;34m\u001b[0m\u001b[0;34m\u001b[0m\u001b[0m\n\u001b[1;32m     48\u001b[0m   \u001b[0mlocal_filenames\u001b[0m \u001b[0;34m=\u001b[0m \u001b[0mdict\u001b[0m\u001b[0;34m(\u001b[0m\u001b[0;34m)\u001b[0m\u001b[0;34m\u001b[0m\u001b[0;34m\u001b[0m\u001b[0m\n",
            "\u001b[0;32m/usr/local/lib/python3.7/dist-packages/google/colab/files.py\u001b[0m in \u001b[0;36m_upload_files\u001b[0;34m(multiple)\u001b[0m\n\u001b[1;32m    127\u001b[0m     result = _output.eval_js(\n\u001b[1;32m    128\u001b[0m         'google.colab._files._uploadFilesContinue(\"{output_id}\")'.format(\n\u001b[0;32m--> 129\u001b[0;31m             output_id=output_id))\n\u001b[0m\u001b[1;32m    130\u001b[0m     \u001b[0;32mif\u001b[0m \u001b[0mresult\u001b[0m\u001b[0;34m[\u001b[0m\u001b[0;34m'action'\u001b[0m\u001b[0;34m]\u001b[0m \u001b[0;34m!=\u001b[0m \u001b[0;34m'append'\u001b[0m\u001b[0;34m:\u001b[0m\u001b[0;34m\u001b[0m\u001b[0;34m\u001b[0m\u001b[0m\n\u001b[1;32m    131\u001b[0m       \u001b[0;31m# JS side uses a generator of promises to process all of the files- some\u001b[0m\u001b[0;34m\u001b[0m\u001b[0;34m\u001b[0m\u001b[0;34m\u001b[0m\u001b[0m\n",
            "\u001b[0;32m/usr/local/lib/python3.7/dist-packages/google/colab/output/_js.py\u001b[0m in \u001b[0;36meval_js\u001b[0;34m(script, ignore_result, timeout_sec)\u001b[0m\n\u001b[1;32m     38\u001b[0m   \u001b[0;32mif\u001b[0m \u001b[0mignore_result\u001b[0m\u001b[0;34m:\u001b[0m\u001b[0;34m\u001b[0m\u001b[0;34m\u001b[0m\u001b[0m\n\u001b[1;32m     39\u001b[0m     \u001b[0;32mreturn\u001b[0m\u001b[0;34m\u001b[0m\u001b[0;34m\u001b[0m\u001b[0m\n\u001b[0;32m---> 40\u001b[0;31m   \u001b[0;32mreturn\u001b[0m \u001b[0m_message\u001b[0m\u001b[0;34m.\u001b[0m\u001b[0mread_reply_from_input\u001b[0m\u001b[0;34m(\u001b[0m\u001b[0mrequest_id\u001b[0m\u001b[0;34m,\u001b[0m \u001b[0mtimeout_sec\u001b[0m\u001b[0;34m)\u001b[0m\u001b[0;34m\u001b[0m\u001b[0;34m\u001b[0m\u001b[0m\n\u001b[0m\u001b[1;32m     41\u001b[0m \u001b[0;34m\u001b[0m\u001b[0m\n\u001b[1;32m     42\u001b[0m \u001b[0;34m\u001b[0m\u001b[0m\n",
            "\u001b[0;32m/usr/local/lib/python3.7/dist-packages/google/colab/_message.py\u001b[0m in \u001b[0;36mread_reply_from_input\u001b[0;34m(message_id, timeout_sec)\u001b[0m\n\u001b[1;32m     99\u001b[0m     \u001b[0mreply\u001b[0m \u001b[0;34m=\u001b[0m \u001b[0m_read_next_input_message\u001b[0m\u001b[0;34m(\u001b[0m\u001b[0;34m)\u001b[0m\u001b[0;34m\u001b[0m\u001b[0;34m\u001b[0m\u001b[0m\n\u001b[1;32m    100\u001b[0m     \u001b[0;32mif\u001b[0m \u001b[0mreply\u001b[0m \u001b[0;34m==\u001b[0m \u001b[0m_NOT_READY\u001b[0m \u001b[0;32mor\u001b[0m \u001b[0;32mnot\u001b[0m \u001b[0misinstance\u001b[0m\u001b[0;34m(\u001b[0m\u001b[0mreply\u001b[0m\u001b[0;34m,\u001b[0m \u001b[0mdict\u001b[0m\u001b[0;34m)\u001b[0m\u001b[0;34m:\u001b[0m\u001b[0;34m\u001b[0m\u001b[0;34m\u001b[0m\u001b[0m\n\u001b[0;32m--> 101\u001b[0;31m       \u001b[0mtime\u001b[0m\u001b[0;34m.\u001b[0m\u001b[0msleep\u001b[0m\u001b[0;34m(\u001b[0m\u001b[0;36m0.025\u001b[0m\u001b[0;34m)\u001b[0m\u001b[0;34m\u001b[0m\u001b[0;34m\u001b[0m\u001b[0m\n\u001b[0m\u001b[1;32m    102\u001b[0m       \u001b[0;32mcontinue\u001b[0m\u001b[0;34m\u001b[0m\u001b[0;34m\u001b[0m\u001b[0m\n\u001b[1;32m    103\u001b[0m     if (reply.get('type') == 'colab_reply' and\n",
            "\u001b[0;31mKeyboardInterrupt\u001b[0m: "
          ]
        }
      ]
    },
    {
      "cell_type": "code",
      "source": [
        "from google.colab import drive\n",
        "drive.mount('/content/drive')"
      ],
      "metadata": {
        "colab": {
          "base_uri": "https://localhost:8080/"
        },
        "id": "mE4spjhgRDvF",
        "outputId": "0ba88d84-cd15-4519-9e08-ca3e98292a7e"
      },
      "execution_count": null,
      "outputs": [
        {
          "output_type": "stream",
          "name": "stdout",
          "text": [
            "Mounted at /content/drive\n"
          ]
        }
      ]
    },
    {
      "cell_type": "markdown",
      "source": [
        "# Set the file directory and the output directory"
      ],
      "metadata": {
        "id": "1XDUWWXRPoer"
      }
    },
    {
      "cell_type": "code",
      "source": [
        "input_folder = \"data_dir = '/content/MSD-10/'\"\n",
        "output_folder = \"op_ann_dir = '/content/MSD-10/MyDrive/ZSL/results'\""
      ],
      "metadata": {
        "id": "0yP_iUEGWJFy"
      },
      "execution_count": null,
      "outputs": []
    },
    {
      "cell_type": "code",
      "source": [
        "# Change input directory\n",
        "# Read in the file\n",
        "with open('/content/batdetect/bat_eval/run_detector.py', 'r') as file :\n",
        "  filedata = file.read()\n",
        "\n",
        "# Replace the target string\n",
        "filedata = filedata.replace(\"data_dir = 'wavs'\", input_folder ) \n",
        "filedata = filedata.replace(\"op_ann_dir = 'results'\", output_folder) \n",
        "\n",
        "# Write the file out again\n",
        "with open('/content/batdetect/bat_eval/run_detector.py', 'w') as file:\n",
        "  file.write(filedata)"
      ],
      "metadata": {
        "id": "68Irsng1Q_TE"
      },
      "execution_count": null,
      "outputs": []
    },
    {
      "cell_type": "code",
      "source": [
        "#  Must change allow_pickle = True in cpu_detection.py in order for script to work with newer numpy\n",
        "# Read in the file\n",
        "with open('/content/batdetect/bat_eval/cpu_detection.py', 'r') as file :\n",
        "  filedata = file.read()\n",
        "\n",
        "# Replace the target string\n",
        "filedata = filedata.replace(\"self.weights = np.load(weight_file, encoding='latin1')\", \"self.weights = np.load(weight_file, encoding='latin1', allow_pickle = True)\" ) \n",
        "# Write the file out again\n",
        "with open('/content/batdetect/bat_eval/cpu_detection.py', 'w') as file:\n",
        "  file.write(filedata)"
      ],
      "metadata": {
        "id": "9e-LxlxNYuvI"
      },
      "execution_count": null,
      "outputs": []
    },
    {
      "cell_type": "markdown",
      "source": [
        "# Run detector"
      ],
      "metadata": {
        "id": "kDYQSgwJXpYi"
      }
    },
    {
      "cell_type": "code",
      "source": [
        "!python /content/batdetect/bat_eval/setup.py build_ext --inplace"
      ],
      "metadata": {
        "colab": {
          "base_uri": "https://localhost:8080/"
        },
        "id": "qa-29avxbuM6",
        "outputId": "ed23a8bd-168b-464b-c155-595136120025"
      },
      "execution_count": null,
      "outputs": [
        {
          "output_type": "stream",
          "name": "stdout",
          "text": [
            "Traceback (most recent call last):\n",
            "  File \"/content/batdetect/bat_eval/setup.py\", line 54, in <module>\n",
            "    ext_modules = cythonize(extensions),\n",
            "  File \"/usr/local/lib/python3.7/dist-packages/Cython/Build/Dependencies.py\", line 977, in cythonize\n",
            "    aliases=aliases)\n",
            "  File \"/usr/local/lib/python3.7/dist-packages/Cython/Build/Dependencies.py\", line 816, in create_extension_list\n",
            "    for file in nonempty(sorted(extended_iglob(filepattern)), \"'%s' doesn't match any files\" % filepattern):\n",
            "  File \"/usr/local/lib/python3.7/dist-packages/Cython/Build/Dependencies.py\", line 114, in nonempty\n",
            "    raise ValueError(error_msg)\n",
            "ValueError: 'nms.pyx' doesn't match any files\n"
          ]
        }
      ]
    },
    {
      "cell_type": "code",
      "source": [
        "cd /content/batdetect/bat_eval"
      ],
      "metadata": {
        "colab": {
          "base_uri": "https://localhost:8080/"
        },
        "id": "Ts0uyu3DYnm5",
        "outputId": "c992fb31-2ae2-4e43-dc7b-9cc9f43dd045"
      },
      "execution_count": null,
      "outputs": [
        {
          "output_type": "stream",
          "name": "stdout",
          "text": [
            "/content/batdetect/bat_eval\n"
          ]
        }
      ]
    },
    {
      "cell_type": "code",
      "source": [
        "!python run_detector.py"
      ],
      "metadata": {
        "colab": {
          "base_uri": "https://localhost:8080/"
        },
        "id": "EyHC8UjLXtfZ",
        "outputId": "f212ff36-e8a1-4e4f-fb5f-deaea167e3ce"
      },
      "execution_count": null,
      "outputs": [
        {
          "output_type": "stream",
          "name": "stdout",
          "text": [
            "Import Error: No module named 'nms'\n",
            "please compile fast nms by running:\n",
            "python setup.py build_ext --inplace\n",
            "using slow nms in the meantime.\n",
            "Processing         37 files\n",
            "Input directory    /content/MSD-10/\n",
            "Results directory  /content/MSD-10/MyDrive/ZSL/results \n",
            "\n",
            "\n",
            " 1 of 37 \t 20220302_212200.WAV\n",
            "  dur 55.0 (secs) , fs 250000\n",
            "  detection time 5.231 (secs)\n",
            "  0 calls found\n",
            "\n",
            " 2 of 37 \t 20220302_210100.WAV\n",
            "  dur 55.0 (secs) , fs 250000\n",
            "  detection time 5.108 (secs)\n",
            "  0 calls found\n",
            "\n",
            " 3 of 37 \t 20220302_210500.WAV\n",
            "  dur 55.0 (secs) , fs 250000\n",
            "  detection time 5.052 (secs)\n",
            "  0 calls found\n",
            "\n",
            " 4 of 37 \t 20220302_210000.WAV\n",
            "  dur 55.0 (secs) , fs 250000\n",
            "  detection time 5.094 (secs)\n",
            "  0 calls found\n",
            "\n",
            " 5 of 37 \t 20220302_210200.WAV\n",
            "  dur 55.0 (secs) , fs 250000\n",
            "  detection time 5.052 (secs)\n",
            "  0 calls found\n",
            "\n",
            " 6 of 37 \t 20220302_212500.WAV\n",
            "  dur 55.0 (secs) , fs 250000\n",
            "  detection time 5.091 (secs)\n",
            "  0 calls found\n",
            "\n",
            " 7 of 37 \t 20220302_212100.WAV\n",
            "  dur 55.0 (secs) , fs 250000\n",
            "  detection time 5.065 (secs)\n",
            "  0 calls found\n",
            "\n",
            " 8 of 37 \t 20220302_212400.WAV\n",
            "  dur 55.0 (secs) , fs 250000\n",
            "  detection time 5.126 (secs)\n",
            "  0 calls found\n",
            "\n",
            " 9 of 37 \t 20220302_212900.WAV\n",
            "  dur 55.0 (secs) , fs 250000\n",
            "  detection time 5.093 (secs)\n",
            "  0 calls found\n",
            "\n",
            " 10 of 37 \t 20220302_211600.WAV\n",
            "  dur 55.0 (secs) , fs 250000\n",
            "  detection time 5.397 (secs)\n",
            "  0 calls found\n",
            "\n",
            " 11 of 37 \t 20220302_213200.WAV\n",
            "  dur 55.0 (secs) , fs 250000\n",
            "  detection time 5.349 (secs)\n",
            "  0 calls found\n",
            "\n",
            " 12 of 37 \t 20220302_212800.WAV\n",
            "  dur 55.0 (secs) , fs 250000\n",
            "  detection time 5.028 (secs)\n",
            "  0 calls found\n",
            "\n",
            " 13 of 37 \t 20220302_210600.WAV\n",
            "  dur 55.0 (secs) , fs 250000\n",
            "  detection time 5.079 (secs)\n",
            "  0 calls found\n",
            "\n",
            " 14 of 37 \t 20220302_211300.WAV\n",
            "  dur 55.0 (secs) , fs 250000\n",
            "  detection time 5.103 (secs)\n",
            "  0 calls found\n",
            "\n",
            " 15 of 37 \t 20220302_211700.WAV\n",
            "  dur 55.0 (secs) , fs 250000\n",
            "  detection time 5.04 (secs)\n",
            "  0 calls found\n",
            "\n",
            " 16 of 37 \t 20220302_210400.WAV\n",
            "  dur 55.0 (secs) , fs 250000\n",
            "  detection time 5.071 (secs)\n",
            "  0 calls found\n",
            "\n",
            " 17 of 37 \t 20220302_212300.WAV\n",
            "  dur 55.0 (secs) , fs 250000\n",
            "  detection time 5.077 (secs)\n",
            "  0 calls found\n",
            "\n",
            " 18 of 37 \t 20220302_213400.WAV\n",
            "  dur 55.0 (secs) , fs 250000\n",
            "  detection time 5.069 (secs)\n",
            "  0 calls found\n",
            "\n",
            " 19 of 37 \t 20220302_210700.WAV\n",
            "  dur 55.0 (secs) , fs 250000\n",
            "  detection time 5.064 (secs)\n",
            "  0 calls found\n",
            "\n",
            " 20 of 37 \t 20220302_212600.WAV\n",
            "  dur 55.0 (secs) , fs 250000\n",
            "  detection time 5.087 (secs)\n",
            "  0 calls found\n",
            "\n",
            " 21 of 37 \t 20220302_211800.WAV\n",
            "  dur 55.0 (secs) , fs 250000\n",
            "  detection time 5.064 (secs)\n",
            "  0 calls found\n",
            "\n",
            " 22 of 37 \t 20220302_212000.WAV\n",
            "  dur 55.0 (secs) , fs 250000\n",
            "  detection time 5.14 (secs)\n",
            "  0 calls found\n",
            "\n",
            " 23 of 37 \t 20220302_213100.WAV\n",
            "  dur 55.0 (secs) , fs 250000\n",
            "  detection time 5.045 (secs)\n",
            "  0 calls found\n",
            "\n",
            " 24 of 37 \t 20220302_213600.WAV\n",
            "  Error reading file\n",
            "\n",
            " 25 of 37 \t 20220302_211500.WAV\n",
            "  dur 55.0 (secs) , fs 250000\n",
            "  detection time 5.08 (secs)\n",
            "  0 calls found\n",
            "\n",
            " 26 of 37 \t 20220302_211100.WAV\n",
            "  dur 55.0 (secs) , fs 250000\n",
            "  detection time 5.106 (secs)\n",
            "  0 calls found\n",
            "\n",
            " 27 of 37 \t 20220302_211900.WAV\n",
            "  dur 55.0 (secs) , fs 250000\n",
            "  detection time 5.116 (secs)\n",
            "  0 calls found\n",
            "\n",
            " 28 of 37 \t 20220302_213300.WAV\n",
            "  dur 55.0 (secs) , fs 250000\n",
            "  detection time 5.084 (secs)\n",
            "  0 calls found\n",
            "\n",
            " 29 of 37 \t 20220302_210900.WAV\n",
            "  dur 55.0 (secs) , fs 250000\n",
            "  detection time 5.145 (secs)\n",
            "  0 calls found\n",
            "\n",
            " 30 of 37 \t 20220302_213000.WAV\n",
            "  dur 55.0 (secs) , fs 250000\n",
            "  detection time 5.076 (secs)\n",
            "  0 calls found\n",
            "\n",
            " 31 of 37 \t 20220302_211400.WAV\n",
            "  dur 55.0 (secs) , fs 250000\n",
            "  detection time 5.048 (secs)\n",
            "  0 calls found\n",
            "\n",
            " 32 of 37 \t 20220302_212700.WAV\n",
            "  dur 55.0 (secs) , fs 250000\n",
            "  detection time 5.074 (secs)\n",
            "  0 calls found\n",
            "\n",
            " 33 of 37 \t 20220302_213500.WAV\n",
            "  dur 55.0 (secs) , fs 250000\n",
            "  detection time 5.065 (secs)\n",
            "  0 calls found\n",
            "\n",
            " 34 of 37 \t 20220302_211200.WAV\n",
            "  dur 55.0 (secs) , fs 250000\n",
            "  detection time 5.063 (secs)\n",
            "  0 calls found\n",
            "\n",
            " 35 of 37 \t 20220302_210800.WAV\n",
            "  dur 55.0 (secs) , fs 250000\n",
            "  detection time 5.113 (secs)\n",
            "  0 calls found\n",
            "\n",
            " 36 of 37 \t 20220302_210300.WAV\n",
            "  dur 55.0 (secs) , fs 250000\n",
            "  detection time 5.094 (secs)\n",
            "  0 calls found\n",
            "\n",
            " 37 of 37 \t 20220302_211000.WAV\n",
            "  dur 55.0 (secs) , fs 250000\n",
            "  detection time 5.071 (secs)\n",
            "  0 calls found\n",
            "no detections to save\n"
          ]
        }
      ]
    },
    {
      "cell_type": "markdown",
      "source": [
        "# Read in results csvs and reformat to make easier to interpret\n",
        "This code reads in all the invididual csvs created, and compiles into one, with information of file name, date and time added. Resulting csv written to folder location, under name of 'concatenated_results.csv'"
      ],
      "metadata": {
        "id": "XU2Y2Jy3zqJZ"
      }
    },
    {
      "cell_type": "code",
      "source": [
        "from glob import glob\n",
        "results_folder = '/content/drive/MyDrive/ZSL/Network Rail project/Data/Trial_data/Trial_garden_city/results'\n",
        "results_list = glob(results_folder + '/individual_results/*.csv')"
      ],
      "metadata": {
        "id": "pMGh6hSZzuoA"
      },
      "execution_count": null,
      "outputs": []
    },
    {
      "cell_type": "code",
      "source": [
        "li = []\n",
        "import pandas as pd\n",
        "import os\n",
        "for filename in results_list:\n",
        "    df = pd.read_csv(filename, sep=';')\n",
        "    df['file_name'] = os.path.splitext(os.path.basename(filename))[0]\n",
        "    df['path'] = filename\n",
        "    df['date'] = [f[0:7] for f in df['file_name']]\n",
        "    df['time'] = [f[9:15] for f in df['file_name']]\n",
        "\n",
        "    li.append(df)\n",
        "\n",
        "frame = pd.concat(li, axis=0, ignore_index=True)\n",
        "\n",
        "frame.to_csv(results_folder + 'concatenated_results_bat_detect.csv')"
      ],
      "metadata": {
        "id": "Pwa-BIWo3E7K"
      },
      "execution_count": null,
      "outputs": []
    }
  ]
}